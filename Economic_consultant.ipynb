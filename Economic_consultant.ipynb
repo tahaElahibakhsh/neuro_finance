{
 "cells": [
  {
   "cell_type": "code",
   "execution_count": null,
   "metadata": {},
   "outputs": [],
   "source": [
    "import os\n",
    "import getpass\n",
    "import requests\n",
    "from langchain.chat_models import init_chat_model\n",
    "from langchain.memory import ConversationBufferMemory\n",
    "from langchain.prompts import PromptTemplate\n",
    "from langchain.agents import Tool\n",
    "\n"
   ]
  },
  {
   "cell_type": "code",
   "execution_count": null,
   "metadata": {},
   "outputs": [],
   "source": [
    "openai_api_key = getpass.getpass(\"لطفاً API Key مدل OpenAI را وارد کنید: \")\n",
    "twelve_api_key = getpass.getpass(\"لطفاً API Key Twelve Data را وارد کنید: \")\n",
    "\n",
    "os.environ[\"OPENAI_API_KEY\"] = openai_api_key\n",
    "\n"
   ]
  },
  {
   "cell_type": "code",
   "execution_count": null,
   "metadata": {},
   "outputs": [],
   "source": [
    "model = init_chat_model(\"gpt-4o-mini\", model_provider=\"openai\")\n",
    "memory = ConversationBufferMemory(memory_key=\"chat_history\", return_messages=True)\n"
   ]
  },
  {
   "cell_type": "code",
   "execution_count": null,
   "metadata": {},
   "outputs": [],
   "source": [
    "- از مثال‌ها و توضیحات قابل فهم استفاده کن.\n",
    "\n",
    "سوال کاربر: {user_question}\n",
    "\"\"\"\n",
    "\n",
    "prompt = PromptTemplate(\n",
    "    input_variables=[\"user_question\"],\n",
    "    template=prompt_template\n",
    ")\n"
   ]
  },
  {
   "cell_type": "code",
   "execution_count": null,
   "metadata": {},
   "outputs": [],
   "source": [
    "def fetch_fundamental_and_news(symbol: str) -> str:\n",
    "    base_url = \"https://api.twelvedata.com\"\n",
    "    \n",
    "    fundamental_url = f\"{base_url}/fundamental?symbol={symbol}&apikey={twelve_api_key}\"\n",
    "    news_url = f\"{base_url}/news?symbol={symbol}&apikey={twelve_api_key}\"\n",
    "\n",
    "    try:\n",
    "        fundamental_res = requests.get(fundamental_url)\n",
    "        fundamental_data = fundamental_res.json()\n",
    "\n",
    "        news_res = requests.get(news_url)\n",
    "        news_data = news_res.json()\n",
    "\n",
    "        summary = \"اطلاعات بنیادی:\\n\"\n",
    "        if \"fundamental\" in fundamental_data:\n",
    "            fund = fundamental_data[\"fundamental\"]\n",
    "            summary += f\"قیمت فعلی: {fund.get('price', 'ناموجود')}\\n\"\n",
    "            summary += f\"EPS: {fund.get('eps', 'ناموجود')}\\n\"\n",
    "            summary += f\"P/E: {fund.get('pe', 'ناموجود')}\\n\"\n",
    "            summary += f\"درآمد: {fund.get('revenue', 'ناموجود')}\\n\"\n",
    "        else:\n",
    "            summary += \"داده بنیادی موجود نیست.\\n\"\n",
    "\n",
    "        summary += \"\\nاخبار اخیر:\\n\"\n",
    "        if \"data\" in news_data:\n",
    "            for i, item in enumerate(news_data[\"data\"][:3]):\n",
    "                summary += f\"{i+1}. {item['title']} - {item['datetime']}\\n\"\n",
    "        else:\n",
    "            summary += \"اخباری یافت نشد.\\n\"\n",
    "\n",
    "        return summary\n",
    "    except Exception as e:\n",
    "        return f\"خطا در دریافت داده‌ها: {e}\"\n",
    "\n"
   ]
  },
  {
   "cell_type": "code",
   "execution_count": null,
   "metadata": {},
   "outputs": [],
   "source": [
    "from langchain.prompts import PromptTemplate\n",
    "\n",
    "prompt_template = \"\"\"\n",
    "شما یک مشاور اقتصادی حرفه‌ای هستید. هدف شما این است که به سوالات اقتصادی، مالی و سرمایه‌گذاری پاسخ دهید.\n",
    "- پاسخ‌ها باید **فارسی روان و قابل فهم** باشند.\n",
    "- اگر سوال غیر اقتصادی باشد، به صورت مودبانه اطلاع بده که تخصص شما فقط در زمینه اقتصادی است.\n",
    "- تحلیل دقیق، راهکار عملی و مشاوره کاربردی ارائه بده.\n",
    "- از مثال‌ها و توضیحات قابل فهم استفاده کن.\n",
    "\n",
    "اطلاعات بنیادی و اخبار مرتبط با نماد {symbol}:\n",
    "{fundamental_and_news}\n",
    "\n",
    "سوال کاربر: {user_question}\n",
    "\"\"\"\n",
    "\n",
    "prompt = PromptTemplate(\n",
    "    input_variables=[\"symbol\", \"fundamental_and_news\", \"user_question\"],\n",
    "    template=prompt_template\n",
    ")\n"
   ]
  },
  {
   "cell_type": "code",
   "execution_count": null,
   "metadata": {},
   "outputs": [
    {
     "name": "stdout",
     "output_type": "stream",
     "text": [
      "\n",
      "\n",
      "\u001b[1m> Entering new AgentExecutor chain...\u001b[0m\n",
      "\u001b[32;1m\u001b[1;3m```json\n",
      "{\n",
      "    \"action\": \"Final Answer\",\n",
      "    \"action_input\": \"سلام! چطور می توانم به شما کمک کنم؟\"\n",
      "}\n",
      "```\u001b[0m\n",
      "\n",
      "\u001b[1m> Finished chain.\u001b[0m\n",
      "\n",
      "=== پاسخ مشاور اقتصادی ===\n",
      "سلام! چطور می توانم به شما کمک کنم؟\n"
     ]
    }
   ],
   "source": [
    "from langchain.agents import Tool\n",
    "\n",
    "def fundamental_search_tool(symbol: str) -> str:\n",
    "    return fetch_fundamental_and_news(symbol)\n",
    "\n",
    "tools = [\n",
    "    Tool(\n",
    "        name=\"FundamentalSearch\",\n",
    "        func=fundamental_search_tool,\n",
    "        description=\"دریافت اطلاعات بنیادی و اخبار مرتبط با نماد\"\n",
    "    )\n",
    "]\n",
    "\n",
    "class EconomicAgent:\n",
    "    def __init__(self, model, tools, memory):\n",
    "        self.model = model\n",
    "        self.tools = {tool.name: tool.func for tool in tools}\n",
    "        self.memory = memory\n",
    "\n",
    "    def run(self):\n",
    "        symbol = input(\"لطفاً نماد سهم را وارد کنید (مثلا AAPL): \").strip().upper()\n",
    "        user_question = input(\"سوال اقتصادی خود را وارد کنید: \").strip()\n",
    "\n",
    "        fundamental_and_news = self.tools[\"FundamentalSearch\"](symbol)\n",
    "\n",
    "        final_prompt = prompt.format(\n",
    "            symbol=symbol,\n",
    "            fundamental_and_news=fundamental_and_news,\n",
    "            user_question=user_question\n",
    "        )\n",
    "\n",
    "        response = self.model.chat(final_prompt, memory=self.memory)\n",
    "        return response.message.content\n"
   ]
  },
  {
   "cell_type": "code",
   "execution_count": null,
   "metadata": {},
   "outputs": [],
   "source": [
    "agent = EconomicAgent(model=model, tools=tools, memory=memory)\n",
    "answer = agent.run()\n",
    "\n",
    "print(\"\\n=== پاسخ مشاور اقتصادی با در نظر گرفتن داده‌های بنیادی و اخبار ===\")\n",
    "print(answer)\n"
   ]
  },
  {
   "cell_type": "code",
   "execution_count": null,
   "metadata": {},
   "outputs": [],
   "source": []
  }
 ],
 "metadata": {
  "kernelspec": {
   "display_name": "Python 3",
   "language": "python",
   "name": "python3"
  },
  "language_info": {
   "codemirror_mode": {
    "name": "ipython",
    "version": 3
   },
   "file_extension": ".py",
   "mimetype": "text/x-python",
   "name": "python",
   "nbconvert_exporter": "python",
   "pygments_lexer": "ipython3",
   "version": "3.13.3"
  }
 },
 "nbformat": 4,
 "nbformat_minor": 2
}

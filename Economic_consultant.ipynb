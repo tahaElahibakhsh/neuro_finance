{
 "cells": [
  {
   "cell_type": "code",
   "execution_count": null,
   "metadata": {},
   "outputs": [],
   "source": [
    "import os\n",
    "import getpass\n",
    "\n",
    "api_key = getpass.getpass(\"لطفاً API Key خود را وارد کنید: \")\n",
    "os.environ[\"OPENAI_API_KEY\"] = api_key\n"
   ]
  },
  {
   "cell_type": "code",
   "execution_count": 77,
   "metadata": {},
   "outputs": [],
   "source": [
    "from langchain.chat_models import init_chat_model\n",
    "from langchain.memory import ConversationBufferMemory\n",
    "\n",
    "model = init_chat_model(\"gpt-4o-mini\", model_provider=\"openai\")\n",
    "memory = ConversationBufferMemory(memory_key=\"chat_history\", return_messages=True)\n"
   ]
  },
  {
   "cell_type": "code",
   "execution_count": 78,
   "metadata": {},
   "outputs": [],
   "source": [
    "from langchain.chat_models import init_chat_model\n",
    "from langchain.memory import ConversationBufferMemory\n",
    "\n",
    "model = init_chat_model(\"gpt-4o-mini\", model_provider=\"openai\")\n",
    "memory = ConversationBufferMemory(memory_key=\"chat_history\", return_messages=True)\n"
   ]
  },
  {
   "cell_type": "code",
   "execution_count": 80,
   "metadata": {},
   "outputs": [],
   "source": [
    "from langchain.prompts import PromptTemplate\n",
    "\n",
    "prompt_template = \"\"\"\n",
    "شما یک مشاور اقتصادی حرفه‌ای هستید. هدف شما این است که به سوالات اقتصادی، مالی و سرمایه‌گذاری پاسخ دهید.\n",
    "- پاسخ‌ها باید **فارسی روان و قابل فهم** باشند.\n",
    "- اگر سوال غیر اقتصادی باشد، به صورت مودبانه اطلاع بده که تخصص شما فقط در زمینه اقتصادی است.\n",
    "- تحلیل دقیق، راهکار عملی و مشاوره کاربردی ارائه بده.\n",
    "- از مثال‌ها و توضیحات قابل فهم استفاده کن.\n",
    "\n",
    "سوال کاربر: {user_question}\n",
    "\"\"\"\n",
    "\n",
    "prompt = PromptTemplate(\n",
    "    input_variables=[\"user_question\"],\n",
    "    template=prompt_template\n",
    ")\n"
   ]
  },
  {
   "cell_type": "code",
   "execution_count": 81,
   "metadata": {},
   "outputs": [],
   "source": [
    "from langchain.agents import Tool\n",
    "\n",
    "tools = [\n",
    "    Tool(\n",
    "        name=\"EconomicAdvisor\",\n",
    "        func=lambda question: prompt.format(user_question=question),\n",
    "        description=\"پاسخ‌دهی به سوالات اقتصادی و مالی، تحلیل و مشاوره ارائه می‌دهد\"\n",
    "    )\n",
    "]\n"
   ]
  },
  {
   "cell_type": "code",
   "execution_count": 84,
   "metadata": {},
   "outputs": [],
   "source": [
    "from langchain.agents import initialize_agent\n",
    "\n",
    "agent = initialize_agent(\n",
    "    tools=tools,\n",
    "    llm=model,\n",
    "    agent=\"chat-conversational-react-description\",\n",
    "    memory=memory,\n",
    "    verbose=True  \n",
    ")\n"
   ]
  },
  {
   "cell_type": "code",
   "execution_count": 85,
   "metadata": {},
   "outputs": [
    {
     "name": "stdout",
     "output_type": "stream",
     "text": [
      "\n",
      "\n",
      "\u001b[1m> Entering new AgentExecutor chain...\u001b[0m\n",
      "\u001b[32;1m\u001b[1;3m```json\n",
      "{\n",
      "    \"action\": \"Final Answer\",\n",
      "    \"action_input\": \"سلام! چطور می توانم به شما کمک کنم؟\"\n",
      "}\n",
      "```\u001b[0m\n",
      "\n",
      "\u001b[1m> Finished chain.\u001b[0m\n",
      "\n",
      "=== پاسخ مشاور اقتصادی ===\n",
      "سلام! چطور می توانم به شما کمک کنم؟\n"
     ]
    }
   ],
   "source": [
    "user_question = input(\"لطفاً سوال اقتصادی خود را وارد کنید: \")\n",
    "\n",
    "response = agent.run(user_question)\n",
    "print(\"\\n=== پاسخ مشاور اقتصادی ===\")\n",
    "print(response)\n"
   ]
  }
 ],
 "metadata": {
  "kernelspec": {
   "display_name": "Python 3",
   "language": "python",
   "name": "python3"
  },
  "language_info": {
   "codemirror_mode": {
    "name": "ipython",
    "version": 3
   },
   "file_extension": ".py",
   "mimetype": "text/x-python",
   "name": "python",
   "nbconvert_exporter": "python",
   "pygments_lexer": "ipython3",
   "version": "3.13.3"
  }
 },
 "nbformat": 4,
 "nbformat_minor": 2
}
